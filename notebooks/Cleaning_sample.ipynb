{
 "cells": [
  {
   "cell_type": "markdown",
   "id": "5d91f2c3-300a-47d5-b8b0-f91a2fbd4342",
   "metadata": {},
   "source": [
    "# Load libraries"
   ]
  },
  {
   "cell_type": "code",
   "execution_count": null,
   "id": "fa48dba1-effc-46ac-aed8-358c0aaf1cd1",
   "metadata": {},
   "outputs": [],
   "source": [
    "import numpy as np\n",
    "import pandas as pd\n",
    "import matplotlib.pyplot as plt\n",
    "import seaborn as sns\n",
    "\n",
    "from sklearn.model_selection import train_test_split, GridSearchCV\n",
    "from sklearn.preprocessing import StandardScaler\n",
    "from sklearn.metrics import classification_report, confusion_matrix, roc_auc_score, ConfusionMatrixDisplay, roc_curve, auc\n",
    "from sklearn.linear_model import LogisticRegression\n",
    "from sklearn.tree import DecisionTreeClassifier\n",
    "from sklearn.ensemble import RandomForestClassifier, GradientBoostingClassifier, AdaBoostClassifier\n",
    "from sklearn.neighbors import KNeighborsClassifier\n",
    "from sklearn.preprocessing import OneHotEncoder\n",
    "import joblib\n",
    "\n",
    "import warnings\n",
    "warnings.filterwarnings('ignore')"
   ]
  },
  {
   "cell_type": "markdown",
   "id": "fa086494-3799-42bf-8d8d-3e0bc28c0a1a",
   "metadata": {},
   "source": [
    "# Load sample dataset"
   ]
  },
  {
   "cell_type": "code",
   "execution_count": null,
   "id": "4bb62bb3-18ea-496d-8c43-29d8f1420d2c",
   "metadata": {},
   "outputs": [],
   "source": [
    "df = pd.read_csv(\"../data/raw/sample.csv\")\n",
    "display(df.head())"
   ]
  },
  {
   "cell_type": "code",
   "execution_count": null,
   "id": "8813c7a5-97ca-49f9-b4eb-42fd7587457a",
   "metadata": {},
   "outputs": [],
   "source": [
    "print(df.columns.tolist())"
   ]
  },
  {
   "cell_type": "markdown",
   "id": "e33c8139-4833-4c10-b4e6-9752135e3db2",
   "metadata": {},
   "source": [
    "# Data cleaning and wrangling"
   ]
  },
  {
   "cell_type": "code",
   "execution_count": null,
   "id": "487bc6d8-bf82-4f87-bb2e-d7feda86fc14",
   "metadata": {},
   "outputs": [],
   "source": [
    "# Step 3: Data Cleaning & Wrangling\n",
    "df.info()"
   ]
  },
  {
   "cell_type": "code",
   "execution_count": null,
   "id": "f017cbb5-5661-4b5e-a495-b995608d7602",
   "metadata": {},
   "outputs": [],
   "source": [
    "df.isnull().sum()"
   ]
  },
  {
   "cell_type": "code",
   "execution_count": null,
   "id": "a5c357b1-7873-4b5e-a233-66b277160f13",
   "metadata": {},
   "outputs": [],
   "source": [
    "df = df.drop_duplicates()\n",
    "df.head()"
   ]
  },
  {
   "cell_type": "code",
   "execution_count": null,
   "id": "a197f2c3-2acf-4d35-9335-14ceafd8ed14",
   "metadata": {},
   "outputs": [],
   "source": [
    "df.shape"
   ]
  },
  {
   "cell_type": "code",
   "execution_count": null,
   "id": "8e5c7b67-9c1f-48b4-8497-ba90774f5176",
   "metadata": {},
   "outputs": [],
   "source": [
    "df['type'].nunique()"
   ]
  },
  {
   "cell_type": "code",
   "execution_count": null,
   "id": "19566b80-d70b-4090-8057-300bdee5f2b5",
   "metadata": {},
   "outputs": [],
   "source": [
    "df['nameOrig'].nunique()"
   ]
  },
  {
   "cell_type": "code",
   "execution_count": null,
   "id": "9ed9a67d-e71a-427f-822e-42748a2d2afa",
   "metadata": {},
   "outputs": [],
   "source": [
    "df['nameDest'].nunique()"
   ]
  },
  {
   "cell_type": "code",
   "execution_count": null,
   "id": "f0233d08-db4e-4069-8d03-a80d64d98da8",
   "metadata": {},
   "outputs": [],
   "source": [
    "df[\"newbalanceOrig\"].nunique()"
   ]
  },
  {
   "cell_type": "markdown",
   "id": "2c59f962-b427-4888-bef0-d9775510693c",
   "metadata": {},
   "source": [
    "# Exploratory Data Analysis "
   ]
  },
  {
   "cell_type": "code",
   "execution_count": null,
   "id": "ff78de7a-df9b-44fc-b900-911307ba2df5",
   "metadata": {},
   "outputs": [],
   "source": [
    "print(\"Structure of the data:\\n\")"
   ]
  },
  {
   "cell_type": "code",
   "execution_count": null,
   "id": "1acacad1-2c3a-4e49-9a6f-8b84d0887656",
   "metadata": {},
   "outputs": [],
   "source": [
    "print(\"\\nSummary statistics:\\n\")"
   ]
  },
  {
   "cell_type": "code",
   "execution_count": null,
   "id": "72f9fe88-09fb-46d3-a571-4b466aa9450d",
   "metadata": {},
   "outputs": [],
   "source": [
    "df.describe()"
   ]
  },
  {
   "cell_type": "code",
   "execution_count": null,
   "id": "7eb90301-4226-4c22-986f-e64c063ae91b",
   "metadata": {},
   "outputs": [],
   "source": [
    "# Numerical Features vs isFraud\n",
    "numeric_cols = ['step', 'amount', 'oldbalanceOrg', 'newbalanceOrig',\n",
    "                'oldbalanceDest', 'newbalanceDest', 'isFlaggedFraud']\n",
    "\n",
    "# Boxplots for numerical features grouped by isFraud\n",
    "for col in numeric_cols:\n",
    "    plt.figure(figsize=(8, 4))\n",
    "    sns.boxplot(data=df, x='isFraud', y=col)\n",
    "    plt.title(f\"Boxplot of {col} by isFraud\")\n",
    "    plt.xlabel(\"Fraud (0 = No, 1 = Yes)\")\n",
    "    plt.ylabel(col)\n",
    "    plt.tight_layout()\n",
    "    plt.show()\n"
   ]
  },
  {
   "cell_type": "code",
   "execution_count": null,
   "id": "10a479bf-626f-4781-a977-c4a58f3231ed",
   "metadata": {},
   "outputs": [],
   "source": [
    "# Mean values grouped by isFraud\n",
    "print(\"Mean values by fraud status:\")\n",
    "print(df.groupby('isFraud')[numeric_cols].mean().T)"
   ]
  },
  {
   "cell_type": "code",
   "execution_count": null,
   "id": "a9e63881-c76f-4238-b84c-39ff088c8084",
   "metadata": {},
   "outputs": [],
   "source": [
    "# Categorical Features vs isFraud \n",
    "# Countplot for 'type' column\n",
    "plt.figure(figsize=(8, 4))\n",
    "sns.countplot(data=df, x='type', hue='isFraud')\n",
    "plt.title(\"Transaction Type by Fraud Status\")\n",
    "plt.xticks(rotation=45)\n",
    "plt.show()"
   ]
  },
  {
   "cell_type": "code",
   "execution_count": null,
   "id": "85e6bb66-19cd-4676-be92-92525816d726",
   "metadata": {},
   "outputs": [],
   "source": [
    "# Cross-tab and fraud ratio per type\n",
    "type_ct = pd.crosstab(df['type'], df['isFraud'])\n",
    "type_ct['fraud_rate_%'] = round((type_ct[1] / (type_ct[0] + type_ct[1])) * 100, 2)\n",
    "print(\"\\nFraud rate per transaction type:\")\n",
    "print(type_ct)"
   ]
  },
  {
   "cell_type": "code",
   "execution_count": null,
   "id": "8a7602ed-b335-4055-903c-70d2ff865e97",
   "metadata": {},
   "outputs": [],
   "source": [
    "sns.countplot(data=df, x='isFraud')\n",
    "plt.title('Fraud vs Non-Fraud Transactions')\n",
    "plt.show()\n",
    "\n",
    "# Only use numeric columns for correlation matrix\n",
    "numeric_df = df.select_dtypes(include=['number'])\n",
    "plt.figure(figsize=(12,8))\n",
    "sns.heatmap(numeric_df.corr(), annot=True, fmt=\".2f\", cmap='coolwarm')\n",
    "plt.title(\"Feature Correlation Matrix\")\n",
    "plt.show()"
   ]
  },
  {
   "cell_type": "markdown",
   "id": "1f8d85a5-ea2b-4f75-afaa-b9acbf63c930",
   "metadata": {},
   "source": [
    "# Chi-Square Test for 'type' vs 'isFraud'"
   ]
  },
  {
   "cell_type": "code",
   "execution_count": null,
   "id": "16000f1d-cc68-4b99-95b3-a64069af9bf2",
   "metadata": {},
   "outputs": [],
   "source": [
    "from scipy.stats import chi2_contingency\n",
    "\n",
    "# Create a contingency table\n",
    "contingency_table = pd.crosstab(df['type'], df['isFraud'])\n",
    "\n",
    "print(\"Contingency Table:\")\n",
    "print(contingency_table)"
   ]
  },
  {
   "cell_type": "code",
   "execution_count": null,
   "id": "df239964-bb17-486d-94ba-99452747356c",
   "metadata": {},
   "outputs": [],
   "source": [
    "# Perform Chi-Square Test\n",
    "chi2, p, dof, expected = chi2_contingency(contingency_table)\n",
    "\n",
    "print(f\"\\nChi-Square Statistic: {chi2:.2f}\")\n",
    "print(f\"Degrees of Freedom: {dof}\")\n",
    "print(f\"P-Value: {p:.4f}\")"
   ]
  },
  {
   "cell_type": "code",
   "execution_count": null,
   "id": "eecde467-d8bb-401a-9e97-06f774cb8750",
   "metadata": {},
   "outputs": [],
   "source": [
    "# Interpretation\n",
    "alpha = 0.05\n",
    "if p < alpha:\n",
    "    print(\" Result: Statistically significant relationship between transaction type and fraud.\")\n",
    "else:\n",
    "    print(\" Result: No significant relationship between transaction type and fraud.\")"
   ]
  },
  {
   "cell_type": "markdown",
   "id": "d74c4a2b-5e28-4ca6-9d32-debb7f71524c",
   "metadata": {},
   "source": [
    "# Chi-Square Test for isFlaggedFraud vs isFraud"
   ]
  },
  {
   "cell_type": "code",
   "execution_count": null,
   "id": "76bebe47-41c1-4694-9ab2-46b0789c3b24",
   "metadata": {},
   "outputs": [],
   "source": [
    "# Create contingency table\n",
    "flagged_table = pd.crosstab(df['isFlaggedFraud'], df['isFraud'])\n",
    "\n",
    "print(\"\\nContingency Table for isFlaggedFraud vs isFraud:\")\n",
    "print(flagged_table)"
   ]
  },
  {
   "cell_type": "code",
   "execution_count": null,
   "id": "ad488212-88de-4b81-b0eb-ee5d99e7010f",
   "metadata": {},
   "outputs": [],
   "source": [
    "# Perform Chi-Square Test\n",
    "chi2, p, dof, expected = chi2_contingency(flagged_table)\n",
    "\n",
    "print(f\"\\nChi-Square Statistic: {chi2:.2f}\")\n",
    "print(f\"Degrees of Freedom: {dof}\")\n",
    "print(f\"P-Value: {p:.4f}\")\n"
   ]
  },
  {
   "cell_type": "code",
   "execution_count": null,
   "id": "b950fe9d-bbcd-44bc-9c93-e873605f0914",
   "metadata": {},
   "outputs": [],
   "source": [
    "# Interpretation\n",
    "alpha = 0.05\n",
    "if p < alpha:\n",
    "    print(\" Result: Statistically significant relationship between isFlaggedFraud and isFraud.\")\n",
    "else:\n",
    "    print(\" Result: No significant relationship between isFlaggedFraud and isFraud.\")\n"
   ]
  },
  {
   "cell_type": "code",
   "execution_count": null,
   "id": "1f728081-7657-49e7-b4db-6f9e67451eb2",
   "metadata": {},
   "outputs": [],
   "source": []
  },
  {
   "cell_type": "code",
   "execution_count": null,
   "id": "1934ee3d-92b3-4a8e-9045-9eb599338840",
   "metadata": {},
   "outputs": [],
   "source": [
    "y = df['isFraud']"
   ]
  },
  {
   "cell_type": "code",
   "execution_count": null,
   "id": "89d2d3c8-46fa-4517-95d4-4bbcaae38868",
   "metadata": {},
   "outputs": [],
   "source": [
    "print(y.value_counts(normalize=True))"
   ]
  },
  {
   "cell_type": "code",
   "execution_count": null,
   "id": "a479789d-18c2-474e-848f-9909c5bde3db",
   "metadata": {},
   "outputs": [],
   "source": [
    "print(y.value_counts())"
   ]
  },
  {
   "cell_type": "code",
   "execution_count": null,
   "id": "55a78769-2b08-4c35-af9e-d33057a181dc",
   "metadata": {},
   "outputs": [],
   "source": [
    "lm = LogisticRegression(class_weight='balanced')\n",
    "rf = RandomForestClassifier(class_weight='balanced')"
   ]
  },
  {
   "cell_type": "code",
   "execution_count": null,
   "id": "5d9310bb-8496-4db8-bfdb-8d1583a67856",
   "metadata": {},
   "outputs": [],
   "source": [
    "from imblearn.over_sampling import SMOTE"
   ]
  },
  {
   "cell_type": "code",
   "execution_count": null,
   "id": "789b5380-1ed9-4c24-9e10-37f9eeea10fe",
   "metadata": {},
   "outputs": [],
   "source": []
  },
  {
   "cell_type": "code",
   "execution_count": null,
   "id": "68b1fbf6-349f-4116-8802-fefcfbdedb11",
   "metadata": {},
   "outputs": [],
   "source": []
  },
  {
   "cell_type": "code",
   "execution_count": null,
   "id": "a1e031ea-1fb9-4b2a-ade7-d862b485d526",
   "metadata": {},
   "outputs": [],
   "source": []
  },
  {
   "cell_type": "code",
   "execution_count": null,
   "id": "1b737838-785b-456d-b93f-fe6209b031c7",
   "metadata": {},
   "outputs": [],
   "source": []
  },
  {
   "cell_type": "markdown",
   "id": "52bec290-1fb7-4102-a405-5d6328f355be",
   "metadata": {},
   "source": [
    "# Feature Engineering & Preprocessing"
   ]
  },
  {
   "cell_type": "code",
   "execution_count": null,
   "id": "89d5a801-6f0d-44f6-9519-8222015c41e7",
   "metadata": {},
   "outputs": [],
   "source": [
    "print(df.columns.tolist())"
   ]
  },
  {
   "cell_type": "code",
   "execution_count": null,
   "id": "b6c26c0f-a17c-4a8d-9f38-7f92f570f38a",
   "metadata": {},
   "outputs": [],
   "source": [
    "# Keep only selected columns\n",
    "df = df[['step', 'type', 'amount', 'oldbalanceOrg', 'newbalanceOrig',\n",
    "                    'oldbalanceDest', 'newbalanceDest', 'isFlaggedFraud', 'isFraud']]\n",
    "\n",
    "# Separate features (X) and target (y)\n",
    "X = df.drop('isFraud', axis=1)\n",
    "y = df['isFraud']"
   ]
  },
  {
   "cell_type": "code",
   "execution_count": null,
   "id": "8151bdff-2c7d-493b-acfb-f0475ca7ca4d",
   "metadata": {},
   "outputs": [],
   "source": [
    "# Split the dataset into categorical columns and numerical columns"
   ]
  },
  {
   "cell_type": "code",
   "execution_count": null,
   "id": "d236da4a-9ca5-4619-b4e1-331d306edc15",
   "metadata": {},
   "outputs": [],
   "source": [
    "X.shape"
   ]
  },
  {
   "cell_type": "code",
   "execution_count": null,
   "id": "a947cb15-f948-467f-b9d7-fd50f96938c0",
   "metadata": {},
   "outputs": [],
   "source": [
    "# Train-test split\n",
    "X_train, X_test, y_train, y_test = train_test_split(X, y, test_size=0.3, random_state=42)"
   ]
  },
  {
   "cell_type": "code",
   "execution_count": null,
   "id": "d89dd43c-e2c4-44e8-aa8c-a676ac3fac8e",
   "metadata": {},
   "outputs": [],
   "source": [
    "# Convert categorical columns to numeric\n",
    "X_train_cat = X_train.select_dtypes(\"object\")\n",
    "X_test_cat  = X_test.select_dtypes(\"object\")\n",
    "\n",
    "X_train_num = X_train.select_dtypes(\"number\")\n",
    "X_test_num  = X_test.select_dtypes(\"number\")"
   ]
  },
  {
   "cell_type": "code",
   "execution_count": null,
   "id": "78fed947-d855-4e96-8655-261bbf3c033d",
   "metadata": {},
   "outputs": [],
   "source": [
    "unique_values = [df['type'].unique().tolist()]\n",
    "ohe = OneHotEncoder(categories=unique_values, sparse_output=False, drop='first')\n",
    "ohe.fit(X_train_cat)\n",
    "X_train_cat_np = ohe.transform(X_train_cat)\n",
    "X_test_cat_np  = ohe.transform(X_test_cat)\n",
    "\n",
    "X_train_cat_df = pd.DataFrame(X_train_cat_np, columns=ohe.get_feature_names_out(), index=X_train_cat.index)\n",
    "X_test_cat_df  = pd.DataFrame(X_test_cat_np,  columns=ohe.get_feature_names_out(), index=X_test_cat.index)"
   ]
  },
  {
   "cell_type": "code",
   "execution_count": null,
   "id": "a8afaf0e-dedf-41e1-9afc-f9774cff9700",
   "metadata": {},
   "outputs": [],
   "source": [
    "# Scale numeric features\n",
    "scaler = StandardScaler()\n",
    "scaler.fit(X_train_num)\n",
    "X_train_num_scaled = scaler.transform(X_train_num)\n",
    "X_test_num_scaled = scaler.transform(X_test_num) \n",
    "\n",
    "X_train_num_df = pd.DataFrame(X_train_num_scaled, columns=X_train_num.columns, index=X_train_num.index)\n",
    "X_test_num_df = pd.DataFrame(X_test_num_scaled,  columns=X_test_num.columns, index=X_test_num.index)\n",
    "# X_scaled = scaler.fit_transform(X)  scaler.fit(X).transform(X)"
   ]
  },
  {
   "cell_type": "code",
   "execution_count": null,
   "id": "dd727365-ee36-41f5-801a-53dda5832a6c",
   "metadata": {},
   "outputs": [],
   "source": [
    "# Combine Numeric + Categorical\n",
    "X_train_final = pd.concat([X_train_num_df, X_train_cat_df], axis=1)\n",
    "X_test_final  = pd.concat([X_test_num_df,  X_test_cat_df], axis=1)"
   ]
  },
  {
   "cell_type": "markdown",
   "id": "fa7df0ac-1574-4b1d-8ea9-11eb4294d55b",
   "metadata": {},
   "source": [
    "# Model Training & Evaluation"
   ]
  },
  {
   "cell_type": "code",
   "execution_count": null,
   "id": "e7edce4b-c696-4c01-96ee-e06b68a5daf4",
   "metadata": {},
   "outputs": [],
   "source": []
  },
  {
   "cell_type": "code",
   "execution_count": null,
   "id": "8c06fe14-d9d0-4404-998b-acda6b5d5b19",
   "metadata": {},
   "outputs": [],
   "source": [
    "models = {\n",
    "    \"Logistic Regression\": LogisticRegression(class_weight='balanced', max_iter=1000),\n",
    "    \"Decision Tree\": DecisionTreeClassifier(),\n",
    "    \"KNN\": KNeighborsClassifier(),\n",
    "    \"Random Forest\": RandomForestClassifier(class_weight='balanced'),\n",
    "    \"Gradient Boosting\": GradientBoostingClassifier(),\n",
    "    \"AdaBoost\": AdaBoostClassifier()\n",
    "}\n",
    "\n",
    "for name, model in models.items():\n",
    "    print(f\"Training the model {name}...\")\n",
    "    model.fit(X_train, y_train)\n",
    "    y_pred = model.predict(X_test)\n",
    "    print(f\"\\n{name}\")\n",
    "    print(\"Confusion Matrix:\\n\", confusion_matrix(y_test, y_pred))\n",
    "    print(\"Classification Report:\\n\", classification_report(y_test, y_pred))\n",
    "    print(\"ROC AUC Score:\", roc_auc_score(y_test, model.predict_proba(X_test)[:,1]))"
   ]
  },
  {
   "cell_type": "markdown",
   "id": "fd160b2e-7a49-40af-afaa-39c20c401649",
   "metadata": {},
   "source": [
    "# Visual ROC Curve"
   ]
  },
  {
   "cell_type": "code",
   "execution_count": null,
   "id": "d41b6a52-8a8f-4bfd-8f32-b6e35c63e9bb",
   "metadata": {},
   "outputs": [],
   "source": [
    "plt.figure(figsize=(10, 6))\n",
    "\n",
    "for name, model in models.items():\n",
    "    y_probs = model.predict_proba(X_test)[:, 1]\n",
    "    fpr, tpr, _ = roc_curve(y_test, y_probs)\n",
    "    roc_auc = auc(fpr, tpr)\n",
    "    plt.plot(fpr, tpr, label=f\"{name} (AUC = {roc_auc:.2f})\")\n",
    "\n",
    "plt.plot([0, 1], [0, 1], \"k--\")\n",
    "plt.xlabel(\"False Positive Rate\")\n",
    "plt.ylabel(\"True Positive Rate\")\n",
    "plt.title(\"ROC Curve Comparison\")\n",
    "plt.legend()\n",
    "plt.grid(True)\n",
    "plt.show()"
   ]
  },
  {
   "cell_type": "markdown",
   "id": "bbca5882-0d64-4dea-ad37-5974ef41b79e",
   "metadata": {},
   "source": [
    "# Confusion Matrix Visualization"
   ]
  },
  {
   "cell_type": "code",
   "execution_count": null,
   "id": "360ecab0-40fd-4885-b63e-14b0089279e3",
   "metadata": {},
   "outputs": [],
   "source": [
    "best_model = GradientBoostingClassifier()\n",
    "best_model.fit(X_train, y_train)\n",
    "ConfusionMatrixDisplay.from_estimator(best_model, X_test, y_test, cmap=\"Blues\")\n",
    "plt.title(\"Confusion Matrix - Gradient Boosting\")\n",
    "plt.show()"
   ]
  },
  {
   "cell_type": "markdown",
   "id": "f2178898-d112-4f58-9672-a404426772b0",
   "metadata": {},
   "source": [
    "# Save Model"
   ]
  },
  {
   "cell_type": "code",
   "execution_count": null,
   "id": "715896a1-3263-489e-aa96-25bd154ee133",
   "metadata": {},
   "outputs": [],
   "source": [
    "joblib.dump(best_model, \"gradient_boosting_fraud_model.pkl\")"
   ]
  },
  {
   "cell_type": "markdown",
   "id": "c1075ed5-da46-4895-96f5-07774033faa0",
   "metadata": {},
   "source": [
    "# Class Probability Distribution"
   ]
  },
  {
   "cell_type": "code",
   "execution_count": null,
   "id": "ad021b8d-0eae-4090-ac2c-773de986a087",
   "metadata": {},
   "outputs": [],
   "source": [
    "y_probs = best_model.predict_proba(X_test)[:, 1]\n",
    "plt.figure(figsize=(8, 4))\n",
    "sns.histplot(y_probs, bins=50, kde=True)\n",
    "plt.title(\"Predicted Fraud Probabilities (Gradient Boosting)\")\n",
    "plt.xlabel(\"Probability of Fraud\")\n",
    "plt.show()"
   ]
  },
  {
   "cell_type": "markdown",
   "id": "7261c872-8518-42e6-af8d-f2339a0ef7d6",
   "metadata": {},
   "source": [
    "# Model Comparison Chart (manually entered example scores)"
   ]
  },
  {
   "cell_type": "code",
   "execution_count": null,
   "id": "edf6d8f0-5fb1-4782-9225-e13776ba93b8",
   "metadata": {},
   "outputs": [],
   "source": [
    "model_results = pd.DataFrame({\n",
    "    \"Model\": [\n",
    "        \"Logistic Regression\", \"Decision Tree\", \"KNN\", \n",
    "        \"Random Forest\", \"Gradient Boosting\", \"AdaBoost\"\n",
    "    ],\n",
    "    \"Precision\": [0.72, 0.75, 0.68, 0.84, 0.86, 0.81],\n",
    "    \"Recall\": [0.65, 0.60, 0.62, 0.79, 0.83, 0.78],\n",
    "    \"F1-Score\": [0.68, 0.66, 0.65, 0.81, 0.84, 0.79],\n",
    "    \"ROC AUC\": [0.85, 0.77, 0.75, 0.92, 0.94, 0.91]\n",
    "})\n",
    "\n",
    "model_results.set_index(\"Model\", inplace=True)\n",
    "model_results.plot(kind=\"bar\", figsize=(12, 6))\n",
    "plt.title(\"Model Performance Comparison\")\n",
    "plt.ylabel(\"Score\")\n",
    "plt.ylim(0, 1)\n",
    "plt.xticks(rotation=45)\n",
    "plt.legend(loc='lower right')\n",
    "plt.tight_layout()\n",
    "plt.show()\n",
    "model_results"
   ]
  },
  {
   "cell_type": "markdown",
   "id": "ffc8d72e-6010-4310-857e-9f5d4419b859",
   "metadata": {},
   "source": [
    "# SHAP Interpretability (optional, install SHAP if needed)"
   ]
  },
  {
   "cell_type": "code",
   "execution_count": null,
   "id": "a422cf07-2104-4233-bf09-ed08b35c5d59",
   "metadata": {},
   "outputs": [],
   "source": [
    "# !pip install shap\n",
    "import shap\n",
    "\n",
    "explainer = shap.Explainer(best_model)\n",
    "shap_values = explainer(X_test[:100])  # sample for speed\n",
    "shap.plots.beeswarm(shap_values)"
   ]
  },
  {
   "cell_type": "markdown",
   "id": "09f1f27d-56ef-4d37-9b7a-bcabf962a40a",
   "metadata": {},
   "source": [
    "# Distribution of Transaction Amount by Fraud Status"
   ]
  },
  {
   "cell_type": "code",
   "execution_count": null,
   "id": "483b364b-f428-47ec-8f0c-2b2a99e776fc",
   "metadata": {},
   "outputs": [],
   "source": [
    "sns.kdeplot(data=df_sample, x='amount', hue='isFraud', fill=True, common_norm=False)\n",
    "plt.title(\"Distribution of Transaction Amount by Fraud Status\")\n",
    "plt.xlabel(\"Transaction Amount\")\n",
    "plt.ylabel(\"Density\")\n",
    "plt.show()"
   ]
  },
  {
   "cell_type": "markdown",
   "id": "2e6d5197-ae76-437f-8e37-94ece704ba03",
   "metadata": {},
   "source": [
    "# Boxplot of Transaction Amount by Fraud"
   ]
  },
  {
   "cell_type": "code",
   "execution_count": null,
   "id": "65491600-a00c-40fd-95f9-5a6e6d9bb42c",
   "metadata": {},
   "outputs": [],
   "source": [
    "sns.boxplot(data=df_sample, x='isFraud', y='amount')\n",
    "plt.title(\"Boxplot of Transaction Amount by Fraud\")\n",
    "plt.xlabel(\"Fraud\")\n",
    "plt.ylabel(\"Amount\")\n",
    "plt.show()"
   ]
  },
  {
   "cell_type": "markdown",
   "id": "834db52b-a3e8-413f-a2ee-907e6ca66909",
   "metadata": {},
   "source": [
    "# Correlation Matrix Zoomed for Top Features"
   ]
  },
  {
   "cell_type": "code",
   "execution_count": null,
   "id": "167b8649-400e-4d1e-8e91-cb826cb8991b",
   "metadata": {},
   "outputs": [],
   "source": [
    "corr = df_sample.corr()['isFraud'].sort_values(ascending=False)\n",
    "top_features = corr[1:6].index  # Top 5 features excluding target\n",
    "sns.heatmap(df_sample[top_features].corr(), annot=True, cmap='coolwarm')\n",
    "plt.title(\"Top Correlated Features with isFraud\")\n",
    "plt.show()"
   ]
  },
  {
   "cell_type": "markdown",
   "id": "4647a8b8-a006-4dba-9dac-7c039232dc88",
   "metadata": {},
   "source": [
    "# Fraud by Transaction Type (if available)"
   ]
  },
  {
   "cell_type": "code",
   "execution_count": null,
   "id": "2ed603a6-c4f2-4c96-a7f5-5e23fd7e540b",
   "metadata": {},
   "outputs": [],
   "source": [
    "if 'type' in df_sample.columns:\n",
    "    sns.countplot(data=df_sample, x='type', hue='isFraud')\n",
    "    plt.title(\"Fraud Cases by Transaction Type\")\n",
    "    plt.xticks(rotation=45)\n",
    "    plt.show()"
   ]
  },
  {
   "cell_type": "markdown",
   "id": "6f1a3c9f-afa3-49dd-a297-cf1ea8d2bf94",
   "metadata": {},
   "source": [
    "# Pairplot of Key Transaction Features (only if small dataset)"
   ]
  },
  {
   "cell_type": "code",
   "execution_count": null,
   "id": "6157add6-9977-4b7e-a3c1-a6c107d1ca96",
   "metadata": {},
   "outputs": [],
   "source": [
    "selected_cols = ['amount', 'oldbalanceOrg', 'newbalanceOrig', 'oldbalanceDest', 'newbalanceDest', 'isFraud']\n",
    "sns.pairplot(df_sample[selected_cols], hue='isFraud', diag_kind='kde')\n",
    "plt.suptitle(\"Pairplot of Key Transaction Features\", y=1.02)\n",
    "plt.show()"
   ]
  },
  {
   "cell_type": "code",
   "execution_count": null,
   "id": "7e5432ea-a7a7-46e0-bba9-34bb0980e2cc",
   "metadata": {},
   "outputs": [],
   "source": []
  }
 ],
 "metadata": {
  "kernelspec": {
   "display_name": "venv",
   "language": "python",
   "name": "venv"
  },
  "language_info": {
   "codemirror_mode": {
    "name": "ipython",
    "version": 3
   },
   "file_extension": ".py",
   "mimetype": "text/x-python",
   "name": "python",
   "nbconvert_exporter": "python",
   "pygments_lexer": "ipython3",
   "version": "3.12.3"
  }
 },
 "nbformat": 4,
 "nbformat_minor": 5
}
