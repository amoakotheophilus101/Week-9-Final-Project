{
 "cells": [
  {
   "cell_type": "markdown",
   "id": "5d91f2c3-300a-47d5-b8b0-f91a2fbd4342",
   "metadata": {},
   "source": [
    "# Load libraries"
   ]
  },
  {
   "cell_type": "code",
   "execution_count": null,
   "id": "fa48dba1-effc-46ac-aed8-358c0aaf1cd1",
   "metadata": {},
   "outputs": [],
   "source": [
    "import numpy as np\n",
    "import pandas as pd\n",
    "import matplotlib.pyplot as plt\n",
    "import seaborn as sns\n",
    "\n",
    "from sklearn.model_selection import train_test_split, GridSearchCV\n",
    "from sklearn.preprocessing import StandardScaler\n",
    "from sklearn.metrics import classification_report, confusion_matrix, roc_auc_score, ConfusionMatrixDisplay, roc_curve, auc\n",
    "from sklearn.linear_model import LogisticRegression\n",
    "from sklearn.tree import DecisionTreeClassifier\n",
    "from sklearn.ensemble import RandomForestClassifier, GradientBoostingClassifier, AdaBoostClassifier\n",
    "from sklearn.neighbors import KNeighborsClassifier\n",
    "import joblib\n",
    "\n",
    "import warnings\n",
    "warnings.filterwarnings('ignore')"
   ]
  },
  {
   "cell_type": "markdown",
   "id": "fa086494-3799-42bf-8d8d-3e0bc28c0a1a",
   "metadata": {},
   "source": [
    "# Load sample dataset"
   ]
  },
  {
   "cell_type": "code",
   "execution_count": null,
   "id": "4bb62bb3-18ea-496d-8c43-29d8f1420d2c",
   "metadata": {},
   "outputs": [],
   "source": [
    "df = pd.read_csv(\"../data/raw/sample.csv\")\n",
    "display(df.head())"
   ]
  },
  {
   "cell_type": "code",
   "execution_count": null,
   "id": "8813c7a5-97ca-49f9-b4eb-42fd7587457a",
   "metadata": {},
   "outputs": [],
   "source": [
    "print(df.columns.tolist())"
   ]
  },
  {
   "cell_type": "markdown",
   "id": "e33c8139-4833-4c10-b4e6-9752135e3db2",
   "metadata": {},
   "source": [
    "# Data cleaning and wrangling"
   ]
  },
  {
   "cell_type": "code",
   "execution_count": null,
   "id": "487bc6d8-bf82-4f87-bb2e-d7feda86fc14",
   "metadata": {},
   "outputs": [],
   "source": [
    "# Step 3: Data Cleaning & Wrangling\n",
    "df.info()"
   ]
  },
  {
   "cell_type": "code",
   "execution_count": null,
   "id": "f017cbb5-5661-4b5e-a495-b995608d7602",
   "metadata": {},
   "outputs": [],
   "source": [
    "df.isnull().sum()"
   ]
  },
  {
   "cell_type": "code",
   "execution_count": null,
   "id": "a5c357b1-7873-4b5e-a233-66b277160f13",
   "metadata": {},
   "outputs": [],
   "source": [
    "df = df.drop_duplicates()\n",
    "df.head()"
   ]
  },
  {
   "cell_type": "code",
   "execution_count": null,
   "id": "19566b80-d70b-4090-8057-300bdee5f2b5",
   "metadata": {},
   "outputs": [],
   "source": [
    "df.shape"
   ]
  },
  {
   "cell_type": "markdown",
   "id": "2c59f962-b427-4888-bef0-d9775510693c",
   "metadata": {},
   "source": [
    "# Exploratory Data Analysis "
   ]
  },
  {
   "cell_type": "code",
   "execution_count": null,
   "id": "8a7602ed-b335-4055-903c-70d2ff865e97",
   "metadata": {},
   "outputs": [],
   "source": [
    "sns.countplot(data=df, x='isFraud')\n",
    "plt.title('Fraud vs Non-Fraud Transactions')\n",
    "plt.show()\n",
    "\n",
    "# Only use numeric columns for correlation matrix\n",
    "numeric_df = df.select_dtypes(include=['number'])\n",
    "plt.figure(figsize=(12,8))\n",
    "sns.heatmap(numeric_df.corr(), annot=True, fmt=\".2f\", cmap='coolwarm')\n",
    "plt.title(\"Feature Correlation Matrix\")\n",
    "plt.show()"
   ]
  },
  {
   "cell_type": "markdown",
   "id": "52bec290-1fb7-4102-a405-5d6328f355be",
   "metadata": {},
   "source": [
    "# Feature Engineering & Preprocessing"
   ]
  },
  {
   "cell_type": "code",
   "execution_count": null,
   "id": "b6c26c0f-a17c-4a8d-9f38-7f92f570f38a",
   "metadata": {},
   "outputs": [],
   "source": [
    "# Drop target\n",
    "X = df.drop('isFraud', axis=1)\n",
    "y = df['isFraud']\n",
    "# Convert categorical columns to numeric\n",
    "X = pd.get_dummies(X, drop_first=True)"
   ]
  },
  {
   "cell_type": "code",
   "execution_count": null,
   "id": "a8afaf0e-dedf-41e1-9afc-f9774cff9700",
   "metadata": {},
   "outputs": [],
   "source": [
    "# Scale numeric features\n",
    "scaler = StandardScaler()\n",
    "X_scaled = scaler.fit_transform(X)"
   ]
  },
  {
   "cell_type": "code",
   "execution_count": null,
   "id": "a947cb15-f948-467f-b9d7-fd50f96938c0",
   "metadata": {},
   "outputs": [],
   "source": [
    "# Train-test split\n",
    "X_train, X_test, y_train, y_test = train_test_split(\n",
    "    X_scaled, y, test_size=0.3, stratify=y, random_state=42\n",
    ")"
   ]
  },
  {
   "cell_type": "markdown",
   "id": "fa7df0ac-1574-4b1d-8ea9-11eb4294d55b",
   "metadata": {},
   "source": [
    "# Model Training & Evaluation"
   ]
  },
  {
   "cell_type": "code",
   "execution_count": null,
   "id": "38106129-8d95-4e60-ab67-7ba5c527a240",
   "metadata": {},
   "outputs": [],
   "source": [
    "import numpy as np\n",
    "import pandas as pd\n",
    "import matplotlib.pyplot as plt\n",
    "import seaborn as sns\n",
    "\n",
    "from sklearn.model_selection import train_test_split, GridSearchCV\n",
    "from sklearn.preprocessing import StandardScaler\n",
    "from sklearn.metrics import classification_report, confusion_matrix, roc_auc_score, ConfusionMatrixDisplay, roc_curve, auc\n",
    "from sklearn.linear_model import LogisticRegression\n",
    "from sklearn.tree import DecisionTreeClassifier\n",
    "from sklearn.ensemble import RandomForestClassifier, GradientBoostingClassifier, AdaBoostClassifier\n",
    "from sklearn.neighbors import KNeighborsClassifier\n",
    "import joblib\n",
    "\n",
    "import warnings\n",
    "warnings.filterwarnings('ignore')"
   ]
  },
  {
   "cell_type": "code",
   "execution_count": null,
   "id": "e7edce4b-c696-4c01-96ee-e06b68a5daf4",
   "metadata": {},
   "outputs": [],
   "source": []
  },
  {
   "cell_type": "code",
   "execution_count": null,
   "id": "8c06fe14-d9d0-4404-998b-acda6b5d5b19",
   "metadata": {},
   "outputs": [],
   "source": [
    "models = {\n",
    "    \"Logistic Regression\": LogisticRegression(class_weight='balanced', max_iter=1000),\n",
    "    \"Decision Tree\": DecisionTreeClassifier(),\n",
    "    \"KNN\": KNeighborsClassifier(),\n",
    "    \"Random Forest\": RandomForestClassifier(class_weight='balanced'),\n",
    "    \"Gradient Boosting\": GradientBoostingClassifier(),\n",
    "    \"AdaBoost\": AdaBoostClassifier()\n",
    "}\n",
    "\n",
    "for name, model in models.items():\n",
    "    model.fit(X_train, y_train)\n",
    "    y_pred = model.predict(X_test)\n",
    "    print(f\"\\n{name}\")\n",
    "    print(\"Confusion Matrix:\\n\", confusion_matrix(y_test, y_pred))\n",
    "    print(\"Classification Report:\\n\", classification_report(y_test, y_pred))\n",
    "    print(\"ROC AUC Score:\", roc_auc_score(y_test, model.predict_proba(X_test)[:,1]))"
   ]
  },
  {
   "cell_type": "markdown",
   "id": "fd160b2e-7a49-40af-afaa-39c20c401649",
   "metadata": {},
   "source": [
    "# Visual ROC Curve"
   ]
  },
  {
   "cell_type": "code",
   "execution_count": null,
   "id": "d41b6a52-8a8f-4bfd-8f32-b6e35c63e9bb",
   "metadata": {},
   "outputs": [],
   "source": [
    "plt.figure(figsize=(10, 6))\n",
    "\n",
    "for name, model in models.items():\n",
    "    y_probs = model.predict_proba(X_test)[:, 1]\n",
    "    fpr, tpr, _ = roc_curve(y_test, y_probs)\n",
    "    roc_auc = auc(fpr, tpr)\n",
    "    plt.plot(fpr, tpr, label=f\"{name} (AUC = {roc_auc:.2f})\")\n",
    "\n",
    "plt.plot([0, 1], [0, 1], \"k--\")\n",
    "plt.xlabel(\"False Positive Rate\")\n",
    "plt.ylabel(\"True Positive Rate\")\n",
    "plt.title(\"ROC Curve Comparison\")\n",
    "plt.legend()\n",
    "plt.grid(True)\n",
    "plt.show()"
   ]
  },
  {
   "cell_type": "markdown",
   "id": "bbca5882-0d64-4dea-ad37-5974ef41b79e",
   "metadata": {},
   "source": [
    "# Confusion Matrix Visualization"
   ]
  },
  {
   "cell_type": "code",
   "execution_count": null,
   "id": "360ecab0-40fd-4885-b63e-14b0089279e3",
   "metadata": {},
   "outputs": [],
   "source": [
    "best_model = GradientBoostingClassifier()\n",
    "best_model.fit(X_train, y_train)\n",
    "ConfusionMatrixDisplay.from_estimator(best_model, X_test, y_test, cmap=\"Blues\")\n",
    "plt.title(\"Confusion Matrix - Gradient Boosting\")\n",
    "plt.show()"
   ]
  },
  {
   "cell_type": "markdown",
   "id": "f2178898-d112-4f58-9672-a404426772b0",
   "metadata": {},
   "source": [
    "# Save Model"
   ]
  },
  {
   "cell_type": "code",
   "execution_count": null,
   "id": "715896a1-3263-489e-aa96-25bd154ee133",
   "metadata": {},
   "outputs": [],
   "source": [
    "joblib.dump(best_model, \"gradient_boosting_fraud_model.pkl\")"
   ]
  },
  {
   "cell_type": "markdown",
   "id": "c1075ed5-da46-4895-96f5-07774033faa0",
   "metadata": {},
   "source": [
    "# Class Probability Distribution"
   ]
  },
  {
   "cell_type": "code",
   "execution_count": null,
   "id": "ad021b8d-0eae-4090-ac2c-773de986a087",
   "metadata": {},
   "outputs": [],
   "source": [
    "y_probs = best_model.predict_proba(X_test)[:, 1]\n",
    "plt.figure(figsize=(8, 4))\n",
    "sns.histplot(y_probs, bins=50, kde=True)\n",
    "plt.title(\"Predicted Fraud Probabilities (Gradient Boosting)\")\n",
    "plt.xlabel(\"Probability of Fraud\")\n",
    "plt.show()"
   ]
  },
  {
   "cell_type": "markdown",
   "id": "7261c872-8518-42e6-af8d-f2339a0ef7d6",
   "metadata": {},
   "source": [
    "# Model Comparison Chart (manually entered example scores)"
   ]
  },
  {
   "cell_type": "code",
   "execution_count": null,
   "id": "edf6d8f0-5fb1-4782-9225-e13776ba93b8",
   "metadata": {},
   "outputs": [],
   "source": [
    "model_results = pd.DataFrame({\n",
    "    \"Model\": [\n",
    "        \"Logistic Regression\", \"Decision Tree\", \"KNN\", \n",
    "        \"Random Forest\", \"Gradient Boosting\", \"AdaBoost\"\n",
    "    ],\n",
    "    \"Precision\": [0.72, 0.75, 0.68, 0.84, 0.86, 0.81],\n",
    "    \"Recall\": [0.65, 0.60, 0.62, 0.79, 0.83, 0.78],\n",
    "    \"F1-Score\": [0.68, 0.66, 0.65, 0.81, 0.84, 0.79],\n",
    "    \"ROC AUC\": [0.85, 0.77, 0.75, 0.92, 0.94, 0.91]\n",
    "})\n",
    "\n",
    "model_results.set_index(\"Model\", inplace=True)\n",
    "model_results.plot(kind=\"bar\", figsize=(12, 6))\n",
    "plt.title(\"Model Performance Comparison\")\n",
    "plt.ylabel(\"Score\")\n",
    "plt.ylim(0, 1)\n",
    "plt.xticks(rotation=45)\n",
    "plt.legend(loc='lower right')\n",
    "plt.tight_layout()\n",
    "plt.show()\n",
    "model_results"
   ]
  },
  {
   "cell_type": "markdown",
   "id": "ffc8d72e-6010-4310-857e-9f5d4419b859",
   "metadata": {},
   "source": [
    "# SHAP Interpretability (optional, install SHAP if needed)"
   ]
  },
  {
   "cell_type": "code",
   "execution_count": null,
   "id": "a422cf07-2104-4233-bf09-ed08b35c5d59",
   "metadata": {},
   "outputs": [],
   "source": [
    "# !pip install shap\n",
    "import shap\n",
    "\n",
    "explainer = shap.Explainer(best_model)\n",
    "shap_values = explainer(X_test[:100])  # sample for speed\n",
    "shap.plots.beeswarm(shap_values)"
   ]
  },
  {
   "cell_type": "code",
   "execution_count": null,
   "id": "483b364b-f428-47ec-8f0c-2b2a99e776fc",
   "metadata": {},
   "outputs": [],
   "source": []
  },
  {
   "cell_type": "code",
   "execution_count": null,
   "id": "a742bb84-4669-4cc6-9b0c-74225db9f96a",
   "metadata": {},
   "outputs": [],
   "source": []
  }
 ],
 "metadata": {
  "kernelspec": {
   "display_name": "venv",
   "language": "python",
   "name": "venv"
  },
  "language_info": {
   "codemirror_mode": {
    "name": "ipython",
    "version": 3
   },
   "file_extension": ".py",
   "mimetype": "text/x-python",
   "name": "python",
   "nbconvert_exporter": "python",
   "pygments_lexer": "ipython3",
   "version": "3.12.3"
  }
 },
 "nbformat": 4,
 "nbformat_minor": 5
}
