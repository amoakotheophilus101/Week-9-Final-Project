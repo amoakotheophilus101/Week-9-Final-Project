{
 "cells": [
  {
   "cell_type": "markdown",
   "id": "5d91f2c3-300a-47d5-b8b0-f91a2fbd4342",
   "metadata": {},
   "source": [
    "# Load samples"
   ]
  },
  {
   "cell_type": "code",
   "execution_count": null,
   "id": "fa48dba1-effc-46ac-aed8-358c0aaf1cd1",
   "metadata": {},
   "outputs": [],
   "source": []
  }
 ],
 "metadata": {
  "kernelspec": {
   "display_name": "venv",
   "language": "python",
   "name": "venv"
  },
  "language_info": {
   "codemirror_mode": {
    "name": "ipython",
    "version": 3
   },
   "file_extension": ".py",
   "mimetype": "text/x-python",
   "name": "python",
   "nbconvert_exporter": "python",
   "pygments_lexer": "ipython3",
   "version": "3.12.3"
  }
 },
 "nbformat": 4,
 "nbformat_minor": 5
}
